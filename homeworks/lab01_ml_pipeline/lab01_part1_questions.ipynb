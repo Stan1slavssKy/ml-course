{
 "cells": [
  {
   "cell_type": "markdown",
   "metadata": {},
   "source": [
    "*Credits: materials from this notebook belong to YSDA [Practical DL](https://github.com/yandexdataschool/Practical_DL) course. Special thanks for making them available online.*"
   ]
  },
  {
   "cell_type": "markdown",
   "metadata": {},
   "source": [
    "# Lab assignment №1, part 1\n",
    "\n",
    "This lab assignment consists of several parts. You are supposed to make some transformations, train some models, estimate the quality of the models and explain your results.\n",
    "\n",
    "Several comments:\n",
    "* Don't hesitate to ask questions, it's a good practice.\n",
    "* No private/public sharing, please. The copied assignments will be graded with 0 points.\n",
    "* Blocks of this lab will be graded separately."
   ]
  },
  {
   "cell_type": "markdown",
   "metadata": {},
   "source": [
    "## 1. Matrix differentiation"
   ]
  },
  {
   "cell_type": "markdown",
   "metadata": {},
   "source": [
    "Since it easy to google every task please please please try to undestand what's going on. The \"just answer\" thing will be not counted, make sure to present derivation of your solution. It is absolutely OK if you found an answer on web then just exercise in $\\LaTeX$ copying it into here."
   ]
  },
  {
   "cell_type": "markdown",
   "metadata": {},
   "source": [
    "Useful links: \n",
    "[1](http://www.machinelearning.ru/wiki/images/2/2a/Matrix-Gauss.pdf)\n",
    "[2](http://www.atmos.washington.edu/~dennis/MatrixCalculus.pdf)"
   ]
  },
  {
   "cell_type": "markdown",
   "metadata": {},
   "source": [
    "## ex. 1"
   ]
  },
  {
   "cell_type": "markdown",
   "metadata": {},
   "source": [
    "$$  \n",
    "y = x^Tx,  \\quad x \\in \\mathbb{R}^N \n",
    "$$"
   ]
  },
  {
   "cell_type": "markdown",
   "metadata": {},
   "source": [
    "$$\n",
    "\\left(\\frac{dy}{d\\vec{x}}\\right)_i = \\frac{d}{dx_i}\\left(\\sum_{k=1}^{N}{x_k x_k}\\right) = \\sum_{k=1}^{N}{2x_k \\delta_{ki}} = 2x_i\n",
    "$$\n",
    "$$\n",
    "\\frac{dy}{d\\vec{x}} = 2\\vec{x}\n",
    "$$"
   ]
  },
  {
   "cell_type": "markdown",
   "metadata": {},
   "source": [
    "## ex. 2"
   ]
  },
  {
   "cell_type": "markdown",
   "metadata": {},
   "source": [
    "$$ y = tr(AB) \\quad A,B \\in \\mathbb{R}^{N \\times N} $$ "
   ]
  },
  {
   "cell_type": "markdown",
   "metadata": {},
   "source": [
    "$$\n",
    "\\frac{dy}{dA} =\n",
    "$$\n",
    "\n",
    "$$\n",
    "\\frac{d}{dA}tr(AB) = \\frac{d}{dA} tr \\left(\n",
    "\n",
    "\\left(\n",
    "\\begin{array}{cccc}\n",
    "    \\vec{a_{1}}^T\\\\\n",
    "    \\vec{a_{2}}^T\\\\\n",
    "    \\vdots\\\\\n",
    "    \\vec{a_{n}}^T\n",
    "    \\end{array}\n",
    "\\right)\n",
    "\\cdot\n",
    "\n",
    "\\left(\n",
    "\\begin{array}{cccc}\n",
    "    \\vec{b_{1}}~\n",
    "    \\vec{b_{2}}~\n",
    "    \\dots~\n",
    "    \\vec{b_{n}}\n",
    "    \\end{array}\n",
    "\\right)\n",
    "\n",
    "\\right) = \\frac{d}{dA} tr\n",
    "\n",
    "\\left(\n",
    "\\begin{array}{cccc}\n",
    "    \\vec{a_{1}}^T \\vec{b_{1}} & \\vec{a_{1}}^T \\vec{b_{2}} & \\ldots & \\vec{a_{1}}^T \\vec{b_{n}}\\\\\n",
    "    \\vec{a_{2}}^T \\vec{b_{1}} & \\vec{a_{2}}^T \\vec{b_{2}} & \\ldots & \\vec{a_{2}}^T \\vec{b_{n}}\\\\\n",
    "    \\vdots & \\vdots & \\ddots & \\vdots\\\\\n",
    "    \\vec{a_{n}}^T \\vec{b_{1}} & \\vec{a_{n}}^T \\vec{b_{2}} & \\ldots & \\vec{a_{n}}^T \\vec{b_{n}}\\\\\n",
    "    \\end{array}\n",
    "\\right)\n",
    "= \n",
    " \n",
    "\\frac{d}{dA} \\left(\\sum_{i=1}^{N}{\\vec{a_i}^T \\vec{b_i}^T}\\right)\n",
    "$$\n",
    "\n",
    "$$\n",
    "\\frac{d}{d a_{mn}}{\\left(\\sum_{i=1}^{N}\\sum_{j=1}^{N}{a_{ij}b_{ji}}\\right)} = \n",
    "\\sum_{i=1}^{N}\\sum_{j=1}^{N}{\\frac{d}{d a_{mn}}\\left(a_{ij}b_{ji}\\right)} = b_{mn} \\Rightarrow \\frac{d}{dA} tr(AB) = B^T\n",
    "$$"
   ]
  },
  {
   "cell_type": "markdown",
   "metadata": {},
   "source": [
    "## ex. 3"
   ]
  },
  {
   "cell_type": "markdown",
   "metadata": {},
   "source": [
    "$$  \n",
    "y = x^TAc , \\quad A\\in \\mathbb{R}^{N \\times N}, x\\in \\mathbb{R}^{N}, c\\in \\mathbb{R}^{N} \n",
    "$$"
   ]
  },
  {
   "cell_type": "markdown",
   "metadata": {},
   "source": [
    "$$\n",
    "\\frac{dy}{dx} =\n",
    "$$\n",
    "$$\n",
    "\\frac{d}{dx_{i}}{\\left(\\sum_{j=1}^{N}\\sum_{k=1}^{N}{x_{j} a_{jk} c_{k}}\\right)} = \n",
    "\\sum_{j=1}^{N}\\sum_{k=1}^{N}{\\delta_{ij} a_{jk} c_{k}} = \n",
    "\\sum_{k=1}^{N}{a_{ik} c_{k}} \\Rightarrow \\frac{dy}{dx} = Ac\n",
    "$$"
   ]
  },
  {
   "cell_type": "markdown",
   "metadata": {},
   "source": [
    "$$\n",
    "\\frac{dy}{dA} =\n",
    "$$\n",
    "$$\n",
    "\\frac{d}{da_{\\alpha \\beta}}{\\left(\\sum_{j=1}^{N}\\sum_{k=1}^{N}{x_{j} a_{jk} c_{k}}\\right)} = \n",
    "\\sum_{j=1}^{N}\\sum_{k=1}^{N}{x_{j} \\delta_{\\alpha j} \\delta_{\\beta k} c_{k}} = \n",
    "x_{\\alpha} c_{\\beta} \\Rightarrow \\frac{dy}{dA} = x c^T\n",
    "$$"
   ]
  },
  {
   "cell_type": "markdown",
   "metadata": {},
   "source": [
    "Hint for the latter (one of the ways): use *ex. 2* result and the fact \n",
    "$$\n",
    "tr(ABC) = tr (CAB)\n",
    "$$"
   ]
  },
  {
   "cell_type": "markdown",
   "metadata": {},
   "source": [
    "## ex. 4"
   ]
  },
  {
   "cell_type": "markdown",
   "metadata": {},
   "source": [
    "Classic matrix factorization example. Given matrix $X$ you need to find $A$, $S$ to approximate $X$. This can be done by simple gradient descent iteratively alternating $A$ and $S$ updates.\n",
    "$$\n",
    "J = || X - AS ||_F^2  , \\quad A\\in \\mathbb{R}^{N \\times R} , \\quad S\\in \\mathbb{R}^{R \\times M}\n",
    "$$\n",
    "$$\n",
    "\\frac{dJ}{dS} = ? \n",
    "$$\n",
    "\n",
    "$$\n",
    "\\frac{dJ}{dS} = \\frac{d}{dS}tr\\left(\\left(X - AS\\right)^T\\left(X - AS\\right)\\right) =\n",
    "\\frac{d}{dS}tr\\left(X^T X - X^T AS - S^T A^T X + S^T A^T AS\\right) = \n",
    "\\frac{d}{dS}tr(- X^T AS) + \\frac{d}{dS}tr(-S^T A^T X) + \\frac{d}{dS}tr(S^T A^T AS)\n",
    "$$\n",
    "\n",
    "$$\n",
    "\\frac{d}{dS}tr(- X^T AS) = -X^T A\\\\\n",
    "\\frac{d}{dS}tr(-S^T A^T X) = [tr(A) = tr(A^T)] = -\\frac{d}{dS}tr(X A^T S) = -X^T A\\\\\n",
    "\\frac{d}{dS}tr(S^T A^T AS) = \\left[\\frac{d}{dx}(x^T A x) = (A + A^T)x\\right] = \\left(A^T A + (A^T A)^T\\right)S = 2 A^T A S\n",
    "$$\n",
    "\n",
    "$$\n",
    "\\frac{dJ}{dS} = 2 A^T A S -X^T A -X^T A = 2A^T(AS - X)\n",
    "$$\n",
    "\n",
    "You may use one of the following approaches:"
   ]
  },
  {
   "cell_type": "markdown",
   "metadata": {},
   "source": [
    "Now lets proof that $\\left[\\frac{d}{dx}(x^T A x) = (A + A^T)x\\right]$\n",
    "$$\n",
    "\\frac{d}{d x_\\alpha}\\left(\\sum_{j=1}^{N}\\sum_{i=1}^{N}{a_{ij}x_i x_j}\\right) = \\sum_{j=1}^{N}{a_{ij}\\delta_{i\\alpha}} x_{j} + \\sum_{i=1}^{N}{a_{ij}\\delta_{j\\alpha} x_{i}} = \\sum_{j=1}^{N}{a_{\\alpha j}} x_{j} + \\sum_{i=1}^{N}{a_{i \\alpha} x_{i}} \\Rightarrow \\frac{d}{dx}(x^T A x) = A x + A^T x = (A + A^T)x\n",
    "$$"
   ]
  },
  {
   "cell_type": "markdown",
   "metadata": {},
   "source": [
    "#### First approach\n",
    "Using ex.2 and the fact:\n",
    "$$\n",
    "|| X ||_F^2 = tr(XX^T) \n",
    "$$ \n",
    "it is easy to derive gradients (you can find it in one of the refs). "
   ]
  },
  {
   "cell_type": "markdown",
   "metadata": {},
   "source": [
    "#### Second approach\n",
    "You can use *slightly different techniques* if they suits you. Take a look at this derivation:\n",
    "<img src=\"grad.png\">\n",
    "(excerpt from [Handbook of blind source separation, Jutten, page 517](https://books.google.ru/books?id=PTbj03bYH6kC&printsec=frontcover&dq=Handbook+of+Blind+Source+Separation&hl=en&sa=X&ved=0ahUKEwi-q_apiJDLAhULvXIKHVXJDWcQ6AEIHDAA#v=onepage&q=Handbook%20of%20Blind%20Source%20Separation&f=false), open for better picture)."
   ]
  },
  {
   "cell_type": "markdown",
   "metadata": {},
   "source": [
    "#### Third approach\n",
    "And finally we can use chain rule! \n",
    "let $ F = AS $ \n",
    "\n",
    "**Find**\n",
    "$$\n",
    "\\frac{dJ}{dF} =  \n",
    "$$ \n",
    "and \n",
    "$$\n",
    "\\frac{dF}{dS} =  \n",
    "$$ \n",
    "(the shape should be $ NM \\times RM )$.\n",
    "\n",
    "Now it is easy do get desired gradients:\n",
    "$$\n",
    "\\frac{dJ}{dS} =  \n",
    "$$ "
   ]
  },
  {
   "cell_type": "markdown",
   "metadata": {
    "collapsed": true,
    "jupyter": {
     "outputs_hidden": true
    }
   },
   "source": [
    "## 2. kNN questions\n",
    "Here come the questions from the assignment0_01. Please, refer to the assignment0_01 to get the context of the questions."
   ]
  },
  {
   "cell_type": "markdown",
   "metadata": {},
   "source": [
    "### Question 1\n",
    "\n",
    "Notice the structured patterns in the distance matrix, where some rows or columns are visible brighter. (Note that with the default color scheme black indicates low distances while white indicates high distances.)\n",
    "\n",
    "- What in the data is the cause behind the distinctly bright rows?\n",
    "- What causes the columns?\n",
    "\n",
    "*Your Answer:*\n",
    "\n",
    "- I think this is due to the fact that we have samples that are very different from the test ones\n",
    "- It looks like the sample is far from the test points, so the distance to each of the test points will be large, that is, we will observe a white column\n"
   ]
  },
  {
   "cell_type": "markdown",
   "metadata": {},
   "source": [
    "### Question 2\n",
    "\n",
    "We can also use other distance metrics such as L1 distance.\n",
    "For pixel values $p_{ij}^{(k)}$ at location $(i,j)$ of some image $I_k$, \n",
    "\n",
    "the mean $\\mu$ across all pixels over all images is $$\\mu=\\frac{1}{nhw}\\sum_{k=1}^n\\sum_{i=1}^{h}\\sum_{j=1}^{w}p_{ij}^{(k)}$$\n",
    "And the pixel-wise mean $\\mu_{ij}$ across all images is \n",
    "$$\\mu_{ij}=\\frac{1}{n}\\sum_{k=1}^np_{ij}^{(k)}.$$\n",
    "The general standard deviation $\\sigma$ and pixel-wise standard deviation $\\sigma_{ij}$ is defined similarly.\n",
    "\n",
    "Which of the following preprocessing steps will not change the performance of a Nearest Neighbor classifier that uses L1 distance? Select all that apply.\n",
    "1. Subtracting the mean $\\mu$ ($\\tilde{p}_{ij}^{(k)}=p_{ij}^{(k)}-\\mu$.)\n",
    "2. Subtracting the per pixel mean $\\mu_{ij}$  ($\\tilde{p}_{ij}^{(k)}=p_{ij}^{(k)}-\\mu_{ij}$.)\n",
    "3. Subtracting the mean $\\mu$ and dividing by the standard deviation $\\sigma$.\n",
    "4. Subtracting the pixel-wise mean $\\mu_{ij}$ and dividing by the pixel-wise standard deviation $\\sigma_{ij}$.\n",
    "5. Rotating the coordinate axes of the data.\n",
    "\n",
    "*Your Answer:* 1, 2, 3\n",
    "\n",
    "\n",
    "*Your Explanation:*\n",
    "1) L1 norm:\n",
    "$$\n",
    "{\\lVert \\tilde{I_k} - \\tilde{I_n} \\rVert}_1 = \\sum_{i=1}^{h}\\sum_{j=1}^{w}{\\lVert \\tilde{p}_{ij}^{(k)} - \\tilde{p}_{ij}^{(n)} \\rVert}_1 = \\sum_{i=1}^{h}\\sum_{j=1}^{w}{\\lVert (p_{ij}^{(k)}-\\mu) - (p_{ij}^{(n)}-\\mu) \\rVert}_1 = \\sum_{i=1}^{h}\\sum_{j=1}^{w}{\\lVert p_{ij}^{(k)} - p_{ij}^{(n)} \\rVert}_1 = {\\lVert {I_k} - {I_n} \\rVert}_1\n",
    "$$\n",
    "So there is no difference.\n",
    "\n",
    "2) L1 norm:\n",
    "$$\n",
    "{\\lVert \\tilde{I_k} - \\tilde{I_n} \\rVert}_1 = \\sum_{i=1}^{h}\\sum_{j=1}^{w}{\\lVert \\tilde{p}_{ij}^{(k)} - \\tilde{p}_{ij}^{(n)} \\rVert}_1 = \\sum_{i=1}^{h}\\sum_{j=1}^{w}{\\lVert (p_{ij}^{(k)}-\\mu_{ij}) - (p_{ij}^{(n)}-\\mu_{ij}) \\rVert}_1 = \\sum_{i=1}^{h}\\sum_{j=1}^{w}{\\lVert p_{ij}^{(k)} - p_{ij}^{(n)} \\rVert}_1 = {\\lVert {I_k} - {I_n} \\rVert}_1\n",
    "$$\n",
    "So there is no difference.\n",
    "\n",
    "3) Let's assume that ${\\lVert I_k - I_n \\rVert}_1 < {\\lVert I_k - I_m \\rVert}_1$\n",
    "$$\n",
    "   \\underline{{\\lVert \\tilde{I_k} - \\tilde{I_n} \\rVert}_1} = \\sum_{i=1}^{h}\\sum_{j=1}^{w}{\\lVert \\tilde{p}_{ij}^{(k)} - \\tilde{p}_{ij}^{(n)} \\rVert}_1 =\\sum_{i=1}^{h}\\sum_{j=1}^{w}{\\left\\lVert\\frac{{p}_{ij}^{(k)} - \\mu}{\\sigma} - \\frac{{p}_{ij}^{(n)} - \\mu}{\\sigma} \\right\\rVert}_1 = \\frac{1}{\\sigma} \\sum_{i=1}^{h}\\sum_{j=1}^{w}{\\left\\lVert {p}_{ij}^{(k)} - {p}_{ij}^{(n)} \\right\\rVert}_1 = \\frac{1}{\\sigma}{\\lVert I_k - I_n \\rVert}_1 \\fbox{<}\n",
    "$$\n",
    "$$\n",
    "   \\fbox{<} \\frac{1}{\\sigma}{\\lVert I_k - I_m \\rVert}_1 = \n",
    "   \\frac{1}{\\sigma}\\sum_{i=1}^{h}\\sum_{j=1}^{w}{\\lVert {p}_{ij}^{(k)} - {p}_{ij}^{(m)} \\rVert}_1 =\\sum_{i=1}^{h}\\sum_{j=1}^{w}{\\left\\lVert\\frac{{p}_{ij}^{(k)} - \\mu}{\\sigma} - \\frac{{p}_{ij}^{(m)} - \\mu}{\\sigma} \\right\\rVert}_1 = \\frac{1}{\\sigma} \\sum_{i=1}^{h}\\sum_{j=1}^{w}{\\left\\lVert \\tilde{p}_{ij}^{(k)} - \\tilde{p}_{ij}^{(m)} \\right\\rVert}_1 = \\underline{{\\lVert \\tilde{I_k} - \\tilde{I_m} \\rVert}_1}\n",
    "$$\n",
    "Thus, the inequality has not changed, that is, the performance will not deteriorate.\n",
    "\n",
    "4) Let's assume that \n",
    "$$\n",
    "x_1 = (-3, 2)^T,~ x_2 = (1, 1)^T,~ x_3 = (3, 2)^T\n",
    "$$\n",
    "$$\n",
    "x_1^\\prime \\approx (-1.336,~ 0.707)^T,~ x_2^\\prime \\approx (0.267,~ -1.414)^T,~ x_3^\\prime \\approx (1.069,~ 0.707)^T\n",
    "$$\n",
    "$$\n",
    "{\\left\\lVert x_1 - x_2 \\right\\rVert}_1 = 5 < {\\left\\lVert x_1 - x_3 \\right\\rVert}_1 = 6\n",
    "$$\n",
    "$$\n",
    "{\\left\\lVert x_1\\prime - x_2\\prime \\right\\rVert}_1 \\approx 3.72 > {\\left\\lVert x_1^\\prime - x_3^\\prime \\right\\rVert}_1 \\approx 2.40\n",
    "$$\n",
    "Thus, l1 distance ordering isn't preserved.\n",
    "\n",
    "5) Assume $\\vec{x_1} = (0, 1)^T,~ \\vec{x_2} = (1, 0)^T, \\vec{x_3} = (1, 1)^T$ turn it 45 degrees\n",
    "$$\n",
    "A =\n",
    "\\begin{bmatrix} \n",
    "   \\frac{\\sqrt{2}}{2} & - \\frac{\\sqrt{2}}{2} \\\\\n",
    "   \\frac{\\sqrt{2}}{2} & \\frac{\\sqrt{2}}{2}\n",
    "\\end{bmatrix}\n",
    "$$\n",
    "\n",
    "$$\n",
    "\\vec{x_1}^\\prime = \\left(-\\frac{\\sqrt{2}}{2},~ \\frac{\\sqrt{2}}{2}\\right)^T,~ \\vec{x_2}^\\prime = \\left(\\frac{\\sqrt{2}}{2},~ \\frac{\\sqrt{2}}{2}\\right)^T, \\vec{x_3}^\\prime = \\left(0,~ \\sqrt{2}\\right)^T\n",
    "$$\n",
    "$$\n",
    "{\\left\\lVert x_1 - x_2 \\right\\rVert}_1 = 2 > {\\left\\lVert x_2 - x_3 \\right\\rVert}_1 = 1\n",
    "$$\n",
    "$$\n",
    "{\\left\\lVert x_1^\\prime - x_2^\\prime \\right\\rVert}_1 = \\sqrt{2} = {\\left\\lVert x_2^\\prime - x_3^\\prime \\right\\rVert}_1 = \\sqrt{2}\n",
    "$$\n",
    "Thus, l1 distance ordering isn't preserved."
   ]
  },
  {
   "cell_type": "code",
   "execution_count": 19,
   "metadata": {},
   "outputs": [
    {
     "name": "stdout",
     "output_type": "stream",
     "text": [
      "mean [0.33333333 1.66666667]\n",
      "standart deviation [2.49443826 0.47140452]\n",
      "new x:\n",
      " [[-1.33630621  0.70710678]\n",
      " [ 0.26726124 -1.41421356]\n",
      " [ 1.06904497  0.70710678]]\n",
      "x1 - x2 norm: 5.0\n",
      "x1 - x3 norm: 6.0\n",
      "new x1 - new x2 norm: 3.724887795034189\n",
      "new x1 - new x3 norm: 2.40535117721182\n"
     ]
    }
   ],
   "source": [
    "# calculations for number 4 \n",
    "\n",
    "import numpy as np\n",
    "x = np.array([np.array([-3, 2]), np.array([1, 1]), np.array([3, 2])])\n",
    "\n",
    "print(\"mean\", np.mean(x, axis = 0))\n",
    "print(\"standart deviation\", np.std(x, axis = 0))\n",
    "new_x = (x - np.mean(x, axis = 0)) / np.std(x, axis = 0)\n",
    "print(\"new x:\\n\", new_x)\n",
    "\n",
    "print(\"x1 - x2 norm:\", np.linalg.norm(x[0] - x[1], 1))\n",
    "print(\"x1 - x3 norm:\", np.linalg.norm(x[0] - x[2], 1))\n",
    "print(\"new x1 - new x2 norm:\", np.linalg.norm(new_x[0] - new_x[1], 1))\n",
    "print(\"new x1 - new x3 norm:\", np.linalg.norm(new_x[0] - new_x[2], 1))"
   ]
  },
  {
   "cell_type": "markdown",
   "metadata": {},
   "source": [
    "## Question 3\n",
    "\n",
    "Which of the following statements about $k$-Nearest Neighbor ($k$-NN) are true in a classification setting, and for all $k$? Select all that apply.\n",
    "1. The decision boundary (hyperplane between classes in feature space) of the k-NN classifier is linear.\n",
    "2. The training error of a 1-NN will always be lower than that of 5-NN.\n",
    "3. The test error of a 1-NN will always be lower than that of a 5-NN.\n",
    "4. The time needed to classify a test example with the k-NN classifier grows with the size of the training set.\n",
    "5. None of the above.\n",
    "\n",
    "*Your Answer:*\n",
    "2, 4\n",
    "\n",
    "*Your Explanation:*\n",
    "1) False. In general, the boundary does not have to be linear. Here is an example from sklearn: [link](https://scikit-learn.org/stable/auto_examples/neighbors/plot_classification.html)\n",
    "\n",
    "2) True. When using the training dataset, if we apply the 1-NN algorithm to a point x, the nearest neighbor will indeed be the exact same point from the training set. So, the error will be 0.\n",
    "With the 5-NN algorithm, the error cannot be lower than 0. Because there are still 4 additional neighbors that might have different values.\n",
    "\n",
    "3) False. For example, if $x_{train} = (-5, -4, -3, -2, -1, 0),~ y_{train} = (0, 0, 0, 0, 0, 1)$. And we get $x = 1,~ y = 0$, then in 1-NN nearest number will be (0, 1) so the error will be 100%. But if we apply 5-NN error will be 0%, because other trains point will be take into account.\n",
    "\n",
    "4) True. KNN needs to go through the entire dataset. Therefore, the larger the dataset, the more time it takes to go through it and perform certain operations on it.\n"
   ]
  }
 ],
 "metadata": {
  "kernelspec": {
   "display_name": "Python 3",
   "language": "python",
   "name": "python3"
  },
  "language_info": {
   "codemirror_mode": {
    "name": "ipython",
    "version": 3
   },
   "file_extension": ".py",
   "mimetype": "text/x-python",
   "name": "python",
   "nbconvert_exporter": "python",
   "pygments_lexer": "ipython3",
   "version": "3.8.10"
  }
 },
 "nbformat": 4,
 "nbformat_minor": 4
}
